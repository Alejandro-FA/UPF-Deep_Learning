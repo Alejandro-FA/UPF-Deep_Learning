{
  "cells": [
    {
      "attachments": {},
      "cell_type": "markdown",
      "metadata": {
        "id": "EvWs2XIYNfhg"
      },
      "source": [
        "# **SVHN Dataset**\n",
        "In the following exercices, you will work with the SVHN dataset: http://ufldl.stanford.edu/housenumbers/\n",
        "\n",
        "It contains RGB images of street digits labeled from 1 to 10 similar to the MNIST dataset.\n",
        "\n",
        "The train and test sets are provided in the folder Data/svhn/ in .mat format.\n",
        "In the following we show an example of how to load the images and labels from these files. A DataLoader for this dataset is provided in the code examples for the lab."
      ]
    },
    {
      "cell_type": "code",
      "execution_count": 1,
      "metadata": {
        "id": "b16UsKPu5PMy"
      },
      "outputs": [],
      "source": [
        "import scipy.io as sio\n",
        "import matplotlib.pyplot as plt\n",
        "import numpy as np\n",
        "import scipy.io as sio\n",
        "import torch.nn as nn\n",
        "import torch\n",
        "import torchvision as T\n",
        "import torchvision.transforms as transforms\n",
        "import torchsummary\n",
        "from PIL import Image\n",
        "from os import listdir\n",
        "from os.path import exists\n",
        "import re\n",
        "import sys\n",
        "import pickle"
      ]
    },
    {
      "cell_type": "code",
      "execution_count": 2,
      "metadata": {
        "colab": {
          "base_uri": "https://localhost:8080/"
        },
        "id": "Y8m7VOyk53Nk",
        "outputId": "33af9965-5897-457d-c422-c4f6333b57f5"
      },
      "outputs": [],
      "source": [
        "# from google.colab import drive\n",
        "# # Mount Google Drive\n",
        "# drive.mount('/content/drive')\n",
        "# %cd \"/content/drive\""
      ]
    },
    {
      "cell_type": "code",
      "execution_count": 3,
      "metadata": {
        "id": "4JNFtVgFNaN3"
      },
      "outputs": [],
      "source": [
        "\n",
        "data_path = 'Data/'\n",
        "results_path = 'Results/'\n",
        "# data_path = 'My Drive/DeepLearning/P3/Data/'\n",
        "# results_path = 'My Drive/DeepLearning/P3/Results/'\n",
        "\n",
        "seed_value = 10\n",
        "torch.manual_seed(seed_value)\n",
        "\n",
        "run_train = True\n",
        "run_test = True\n",
        "device = torch.device('cuda:0' if torch.cuda.is_available() else 'cpu')"
      ]
    },
    {
      "cell_type": "code",
      "execution_count": 51,
      "metadata": {
        "colab": {
          "base_uri": "https://localhost:8080/"
        },
        "id": "NBVq6xHo5mmf",
        "outputId": "b31aff2f-70d6-4b28-9f9c-1620098d65c4"
      },
      "outputs": [],
      "source": [
        "# Setting the model name\n",
        "if run_train:\n",
        "    files = listdir(results_path + \"models/\")\n",
        "    models = list(filter(lambda name: \".ckpt\" in name, files))\n",
        "    pattern = re.compile(\"model_(\\d+).ckpt\")\n",
        "    indices = [int(pattern.search(model).group(1)) for model in models]\n",
        "    if len(models) == 0:\n",
        "        indices = [0]\n",
        "    train_model_name = \"model_\" + str(max(indices) + 1)\n",
        "    test_model_name = train_model_name\n",
        "    print(f\"Training model: {train_model_name}\")\n",
        "\n",
        "\n",
        "if run_test and not run_train:\n",
        "    test_model_name = input(\"Introduce the model name that you want to test: \")\n",
        "    while not exists(results_path + \"models/\" + test_model_name + \".ckpt\"):\n",
        "        print(\"Model does not exist\")\n",
        "        test_model_name = input(\"Introduce the model name that you want to test: \")"
      ]
    },
    {
      "attachments": {},
      "cell_type": "markdown",
      "metadata": {
        "id": "zDulabPxYZXi"
      },
      "source": [
        "# Ex. 1\n"
      ]
    },
    {
      "attachments": {},
      "cell_type": "markdown",
      "metadata": {
        "id": "-NwccV9Wzl39"
      },
      "source": [
        "'''\n",
        "1. Try to obtain the maximum test accuracy possible in the SVHN dataset. For this purpose train/test different variants of the CNN provided in P3-Part1-Examples.\n",
        "   You can explore different strategies:\n",
        "\n",
        "- 1.1. Increase the size of the network by adding one ore more conv. layers. You can also increase the number of filters in each layer.\n",
        "\n",
        "- 1.2. Try different optimizers such as Adam or SGD with momentum and modify the learning rate. You can check: https://pytorch.org/docs/stable/optim.html\n",
        "\n",
        "- 1.3. Explore different random transformations during training ( Data augmentation ) such as random cropping with padding. You can check: https://pytorch.org/docs/stable/torchvision/transforms.html . Remember that these random transofrmation must not be used during testing.\n",
        "\n",
        "- 1.4 Whatever you consider...\n",
        "\n",
        "\n",
        "1. Save all the different models , compare their test accuracy and analyse the results. Discuss what model has been shown more effective and why have you used the different strategies.\n",
        "'''"
      ]
    },
    {
      "cell_type": "code",
      "execution_count": 5,
      "metadata": {
        "id": "pom97RDd9aM4"
      },
      "outputs": [],
      "source": [
        "class SVHN(torch.utils.data.Dataset):\n",
        "    # Initialization method for the dataset\n",
        "    def __init__(self,dataDir = data_path+'/svhn/train_32x32.mat',transform = None):\n",
        "        mat_loaded = sio.loadmat(dataDir)\n",
        "        self.data = mat_loaded['X']\n",
        "        self.labels = mat_loaded['y'].squeeze()\n",
        "        self.labels -= self.labels.min()\n",
        "        self.transform = transform\n",
        "     # What to do to load a single item in the dataset ( read image and label)    \n",
        "    def __getitem__(self, index):\n",
        "        data = self.data[:,:,:,index]\n",
        "        lbl = self.labels[index]\n",
        "        \n",
        "        data = Image.fromarray(data)\n",
        "        # Apply a trasnformaiton to the image if it is indicated in the initalizer\n",
        "        if self.transform is not None : \n",
        "            data = self.transform(data)\n",
        "        \n",
        "        # return the image and the label\n",
        "        return data,lbl\n",
        "    \n",
        "        pass\n",
        "    \n",
        "    # Return the number of images\n",
        "    def __len__(self):\n",
        "        return self.data.shape[3]"
      ]
    },
    {
      "cell_type": "code",
      "execution_count": 53,
      "metadata": {
        "id": "M62ZmxJv6JaE"
      },
      "outputs": [],
      "source": [
        "class ConvNet(nn.Module):\n",
        "    def __init__(self, num_classes=10):\n",
        "        \n",
        "        super(ConvNet, self).__init__()\n",
        "        \n",
        "        self.conv1 = nn.Conv2d(3, 16, kernel_size=5,  padding=2)\n",
        "        #input : 3 channel, output 16 channel, filter size : 5x5\n",
        "        \n",
        "        self.conv2 = nn.Conv2d(16, 32, kernel_size=3,  padding=1)\n",
        "        #input : 16 channel, output 32 channel, filter size : 3x3\n",
        "\n",
        "        self.conv3 = nn.Conv2d(32, 64, kernel_size=3, padding = 1)\n",
        "        #input : 32 channel, output 64 channel, filter size : 3x3\n",
        "\n",
        "        self.conv4 = nn.Conv2d(64, 128, kernel_size=3, padding = 1)\n",
        "        #input : 64 channel, output 128 channel, filter size : 3x3\n",
        "        \n",
        "        self.fc = nn.Linear(512, num_classes)\n",
        "        \n",
        "        self.maxpool= nn.MaxPool2d(kernel_size=2, stride=2)\n",
        "        self.relu = nn.ReLU()\n",
        "        \n",
        "    def forward(self, x):\n",
        "        \n",
        "        out = self.conv1(x)\n",
        "        out = self.relu(out)\n",
        "        out = self.maxpool(out)\n",
        "        \n",
        "        out = self.conv2(out)\n",
        "        out = self.relu(out)\n",
        "        out = self.maxpool(out)\n",
        "\n",
        "        out = self.conv3(out)\n",
        "        out = self.relu(out)\n",
        "        out = self.maxpool(out)\n",
        "\n",
        "        out = self.conv4(out)\n",
        "        out = self.relu(out)\n",
        "        out = self.maxpool(out)\n",
        "        # print(out.shape)\n",
        "        out = out.reshape(out.size(0), -1) #128,32,8,8 -> 128,8*8*32\n",
        "        # print(out.shape)\n",
        "        out = self.fc(out) # we don't need sigmoid or other activation function at the end beacuse we will use nn.CrossEntropyLoss() (check documentation to understand why)\n",
        "        \n",
        "        return out "
      ]
    },
    {
      "cell_type": "code",
      "execution_count": 7,
      "metadata": {
        "id": "X8v7ZOgo9c4_"
      },
      "outputs": [],
      "source": [
        "tr = transforms.Compose([\n",
        "        transforms.ToTensor(),\n",
        "        transforms.Normalize(mean = [.5], std = [.5])\n",
        "        ])\n",
        "\n",
        "SVHNTrain = SVHN(data_path+'/svhn/train_32x32.mat', tr)\n",
        "\n",
        "\n",
        "# network \n",
        "train_loader = torch.utils.data.DataLoader(dataset=SVHNTrain,\n",
        "                                               batch_size=256, \n",
        "                                               shuffle=True)\n"
      ]
    },
    {
      "cell_type": "code",
      "execution_count": 58,
      "metadata": {
        "id": "hgj2s08K9QYc"
      },
      "outputs": [],
      "source": [
        "num_classes = 10\n",
        "CNN = ConvNet()\n",
        "\n",
        "\n",
        "# Cross entropy loss for classification problems\n",
        "criterion = nn.CrossEntropyLoss()\n",
        "\n",
        "#Initialize optimizer \n",
        "learning_rate = .001\n",
        "optimizer = torch.optim.Adam(CNN.parameters(), lr = learning_rate)\n",
        "\n",
        "# Device configuration (choose GPU if it is available )\n",
        "num_epochs = 5\n",
        "\n",
        "CNN = CNN.to(device)"
      ]
    },
    {
      "cell_type": "code",
      "execution_count": 59,
      "metadata": {
        "colab": {
          "base_uri": "https://localhost:8080/"
        },
        "id": "NamLaBxoE83k",
        "outputId": "84e249fa-8c3e-43b1-dfd2-798bf8cdd2a3"
      },
      "outputs": [],
      "source": [
        "if run_train:\n",
        "    print(f\"Training with {len(SVHNTrain)} images\")\n",
        "    \n",
        "    CNN.train() # Set the model in train mode\n",
        "    total_step = len(train_loader)\n",
        "    accuracies = []\n",
        "    train_losses = []\n",
        "    \n",
        "    # Iterate over epochs\n",
        "    for epoch in range(num_epochs):\n",
        "        # Iterate the dataset\n",
        "        # total = 0\n",
        "        # correct = 0\n",
        "        for i, (images, labels) in enumerate(train_loader):\n",
        "            # Get batch of samples and labels\n",
        "            images = images.to(device)\n",
        "            labels = labels.to(device)\n",
        "            \n",
        "            # Forward pass\n",
        "            outputs = CNN(images)\n",
        "            loss = criterion(outputs, labels)\n",
        "            train_losses.append(loss.item())        \n",
        "\n",
        "            # Backward and optimize\n",
        "            optimizer.zero_grad()\n",
        "            loss.backward()\n",
        "            optimizer.step()\n",
        "            \n",
        "            # with torch.no_grad():\n",
        "            #     _, predicted = torch.max(outputs.data, 1)\n",
        "\n",
        "            #     # compare with the ground-truth\n",
        "            #     total += labels.size(0)\n",
        "            #     correct += (predicted == labels).sum().item()\n",
        "            \n",
        "            \n",
        "            if (i+1) % 100 == 0:\n",
        "                print ('Epoch [{}/{}], Step [{}/{}], Loss: {:.4f}' \n",
        "                        .format(epoch+1, num_epochs, i+1, total_step, loss.item()))\n",
        "        \n",
        "        # accuracies.append(100 * correct / total)\n",
        "        \n",
        "        # print(f\"\\nEpoch {epoch+1}:\")\n",
        "        # print ('Epoch [{}/{}], Step [{}/{}], Loss: {:.4f}, Accuracy: {:.4f}%\\n' \n",
        "        #         .format(epoch+1, num_epochs, i+1, total_step, loss.item(), 100 * correct / total))\n",
        "        \n",
        "\n",
        "    with open(results_path + \"models/\" + train_model_name + \"_train_loss\", \"wb\") as results_txt:\n",
        "        pickle.dump(train_losses, results_txt)\n",
        "\n",
        "\n",
        "    # Save the model checkpoint\n",
        "    torch.save(CNN.state_dict(), results_path + \"models/\" + train_model_name + \".ckpt\")"
      ]
    },
    {
      "cell_type": "code",
      "execution_count": 60,
      "metadata": {
        "colab": {
          "base_uri": "https://localhost:8080/"
        },
        "id": "Uvy6yqWXF6xb",
        "outputId": "ace6cff1-abc7-47da-e845-6ed984fb6eff"
      },
      "outputs": [],
      "source": [
        "if run_test:\n",
        "    CNN.load_state_dict(torch.load(results_path + \"models/\" + test_model_name + \".ckpt\"))\n",
        "    # Load test dataset\n",
        "    SVHNTest = SVHN(data_path+'/svhn/test_32x32.mat', tr)\n",
        "    test_loader = torch.utils.data.DataLoader(dataset=SVHNTest,\n",
        "                                               batch_size=256, \n",
        "                                               shuffle=True)\n",
        "    CNN.eval() # Set the model in evaluation mode\n",
        "    \n",
        "    # Compute testing accuracy\n",
        "    with torch.no_grad():\n",
        "        correct = 0\n",
        "        total = 0\n",
        "        for images, labels in test_loader:\n",
        "            images = images.to(device)\n",
        "            labels = labels.to(device)\n",
        "            # get network predictions\n",
        "            outputs = CNN(images)\n",
        "\n",
        "            # get predicted class\n",
        "            _, predicted = torch.max(outputs.data, 1)\n",
        "\n",
        "            # compare with the ground-truth\n",
        "            total += labels.size(0)\n",
        "            correct += (predicted == labels).sum().item()\n",
        "    \n",
        "        print('Test Accuracy of the model on the {} test images: {} %'.format(len(SVHNTest), 100 * correct / total))\n",
        "\n",
        "        with open(results_path + \"models/\" + test_model_name + \".txt\", \"a\") as results_txt:\n",
        "            results_txt.write(f\"Test accuracy: {100 * correct / total}\\n\")"
      ]
    },
    {
      "cell_type": "code",
      "execution_count": 61,
      "metadata": {
        "id": "I_b-Wc4mF95t"
      },
      "outputs": [],
      "source": [
        "with open(results_path + \"models/\" + test_model_name + \".txt\", \"a\") as results_txt:\n",
        "    results_txt.write(f\"Epochs: {num_epochs}\\n\")\n",
        "    results_txt.write(f\"Loss function: {criterion}\\n\")\n",
        "    results_txt.write(f\"Optimizer: {optimizer}\\n\")\n",
        "    sys.stdout = results_txt\n",
        "    torchsummary.summary(CNN, (3, 32, 32))\n",
        "\n",
        "\n",
        "sys.stdout = sys.__stdout__\n"
      ]
    },
    {
      "attachments": {},
      "cell_type": "markdown",
      "metadata": {
        "id": "h7QTVmaKQg4X"
      },
      "source": [
        "# Ex. 2"
      ]
    },
    {
      "attachments": {},
      "cell_type": "markdown",
      "metadata": {
        "id": "TLVQ_LI6kSmK"
      },
      "source": [
        "# **Building your own efficient Convolutional Network architecture for SVHN**\n",
        "\n",
        "In the following,  you will need to build your own CNN architecture to predict digit numbers on the SVHN dataset. You are completely free to use any kind of layers and hyper-parameters for this purpose. Your goal is to acheive the maximum possible accuracy on the test set (the better, the higher score you'll get in the exercice). The only constraint is that your model should not contain more than 150K parameters. Below, we provide a simple code to compute the number of parameters in a model."
      ]
    },
    {
      "attachments": {},
      "cell_type": "markdown",
      "metadata": {
        "id": "0TFCESJFn1xZ"
      },
      "source": [
        "## Computing model parameters"
      ]
    },
    {
      "cell_type": "code",
      "execution_count": 12,
      "metadata": {
        "id": "dnSiO4xQn7qU"
      },
      "outputs": [],
      "source": [
        "# Compute model paramters\n",
        "def compute_model_params(model):\n",
        "  params = 0\n",
        "  for p in model.parameters():\n",
        "    params+= p.numel()\n",
        "  return params"
      ]
    },
    {
      "cell_type": "code",
      "execution_count": 13,
      "metadata": {
        "id": "XErSjYHEoKoz"
      },
      "outputs": [],
      "source": [
        "import torch\n",
        "import torch.nn as nn\n",
        "\n",
        "# ResNet style network\n",
        "class ResSim(nn.Module):\n",
        "    def __init__(self, num_classes=10):\n",
        "        \n",
        "        super(ResSim, self).__init__()\n",
        "        \n",
        "        self.conv11 = nn.Conv2d(3, 64, kernel_size=3, stride=1, padding=1)\n",
        "        self.conv12 = nn.Conv2d(64, 64, kernel_size=3, stride=1, padding=1)\n",
        "        \n",
        "        self.conv21 = nn.Conv2d(64, 64, kernel_size=3, stride=1, padding=1)\n",
        "        self.conv22 = nn.Conv2d(64, 64, kernel_size=3, stride=1, padding=1)\n",
        "        \n",
        "        self.fc = nn.Linear(8*8*64, num_classes)\n",
        "        \n",
        "        self.maxpool= nn.MaxPool2d(kernel_size=2, stride=2)\n",
        "        self.relu = nn.ReLU()\n",
        "        \n",
        "    def forward(self, x):\n",
        "        \n",
        "        out11 = self.relu(self.conv11(x))\n",
        "        out12 = self.relu(self.conv12(out11)) + out11\n",
        "\n",
        "        out = self.maxpool(out12)\n",
        "\n",
        "        out21 = self.relu(self.conv21(out)) \n",
        "        out = self.relu(self.conv22(out21)) + out21\n",
        "        out = self.maxpool(out)\n",
        "        \n",
        "        #print(out.shape)\n",
        "        out = out.view(out.size(0), -1)\n",
        "        out = self.fc(out)\n",
        "        \n",
        "        return out\n",
        "# Initialize the model\n",
        "model = ResSim(num_classes=10)\n",
        "# Compute and print number of params\n",
        "n_params = compute_model_params(model)\n",
        "print(\"ResNet Parameters: \" + str(n_params)) ## \n",
        "print(\"THIS MODEL CONTAINS 153K PARAMS, IT IS CONSIDERED NOT VALID FOR THE EXERCICE!!!!!!\")"
      ]
    },
    {
      "cell_type": "code",
      "execution_count": 14,
      "metadata": {
        "id": "qnJBuRZVjpOl"
      },
      "outputs": [
        {
          "data": {
            "text/plain": [
              "'\\n1. Design and implement your own CNN. Given that the number of parameters must be small, you can check some papers focused on efficient CNN architectures and get some ideas.\\n  - MobileNet: https://arxiv.org/abs/1704.04861\\n  - MobileNet V2: https://arxiv.org/pdf/1801.04381.pdf\\n  - SqueezeNet: https://arxiv.org/abs/1602.07360\\n  - ShuffleNet: https://arxiv.org/abs/1707.01083\\n  - ESPNet V2: https://arxiv.org/abs/1811.11431\\n2. Train it and test it on SVHN using the provided code.\\n3. Discuss what approaches have you tried, why, and which ones have shown to be more beneficial.\\n'"
            ]
          },
          "execution_count": 14,
          "metadata": {},
          "output_type": "execute_result"
        },
        {
          "name": "stdout",
          "output_type": "stream",
          "text": [
            "ResNet Parameters: 153546\n",
            "THIS MODEL CONTAINS 153K PARAMS, IT IS CONSIDERED NOT VALID FOR THE EXERCICE!!!!!!\n",
            "MyModel Parameters: 30730\n"
          ]
        }
      ],
      "source": [
        "'''\n",
        "1. Design and implement your own CNN. Given that the number of parameters must be small, you can check some papers focused on efficient CNN architectures and get some ideas.\n",
        "  - MobileNet: https://arxiv.org/abs/1704.04861\n",
        "  - MobileNet V2: https://arxiv.org/pdf/1801.04381.pdf\n",
        "  - SqueezeNet: https://arxiv.org/abs/1602.07360\n",
        "  - ShuffleNet: https://arxiv.org/abs/1707.01083\n",
        "  - ESPNet V2: https://arxiv.org/abs/1811.11431\n",
        "2. Train it and test it on SVHN using the provided code.\n",
        "3. Discuss what approaches have you tried, why, and which ones have shown to be more beneficial.\n",
        "'''\n"
      ]
    },
    {
      "attachments": {},
      "cell_type": "markdown",
      "metadata": {
        "id": "VObbYfbsQkls"
      },
      "source": [
        "## Sol. 2"
      ]
    },
    {
      "attachments": {},
      "cell_type": "markdown",
      "metadata": {
        "id": "wlKMweHXPO1z"
      },
      "source": [
        "### Define your own model and check the number of total parameters"
      ]
    },
    {
      "cell_type": "code",
      "execution_count": 15,
      "metadata": {
        "id": "xMxY47BLpEPG"
      },
      "outputs": [],
      "source": [
        "import torch\n",
        "import torch.nn as nn\n",
        "import torch.nn.functional as F\n",
        "\n",
        "\n",
        "#Mobilenet Style Architecture\n",
        "class MyModel(nn.Module):\n",
        "    def __init__(self, num_classes=10):\n",
        "        \n",
        "        super(MyModel, self).__init__()\n",
        "        self.linear = nn.Linear(32*32*3,num_classes)\n",
        "        '''\n",
        "        REPLACE WITH YOUR CODE HERE\n",
        "        '''\n",
        "                \n",
        "\n",
        "                \n",
        "    def forward(self, x):\n",
        "        return self.linear(x.view(x.shape[0],-1))\n",
        "        '''\n",
        "        REPLACE WITH YOUR CODE HERE\n",
        "        '''\n",
        "\n",
        "\n",
        "model = MyModel(num_classes=10)\n",
        "n_params = compute_model_params(model)\n",
        "print(\"MyModel Parameters: \" + str(n_params))\n",
        "\n"
      ]
    },
    {
      "attachments": {},
      "cell_type": "markdown",
      "metadata": {
        "id": "3dangurPPcgm"
      },
      "source": [
        "### Train your model on SVHN\n",
        "It is not allowed to change training hyper-parameters such as learning rate, batch size or number of epochs. You can only modify the architecture definition."
      ]
    },
    {
      "cell_type": "code",
      "execution_count": 16,
      "metadata": {
        "id": "Ln0tdN7Iu3hu"
      },
      "outputs": [
        {
          "ename": "ModuleNotFoundError",
          "evalue": "No module named 'google'",
          "output_type": "error",
          "traceback": [
            "\u001b[0;31m---------------------------------------------------------------------------\u001b[0m",
            "\u001b[0;31mModuleNotFoundError\u001b[0m                       Traceback (most recent call last)",
            "Cell \u001b[0;32mIn[16], line 11\u001b[0m\n\u001b[1;32m      9\u001b[0m \u001b[39mfrom\u001b[39;00m \u001b[39mPIL\u001b[39;00m \u001b[39mimport\u001b[39;00m Image\n\u001b[1;32m     10\u001b[0m \u001b[39mimport\u001b[39;00m \u001b[39mscipy\u001b[39;00m\u001b[39m.\u001b[39;00m\u001b[39mio\u001b[39;00m \u001b[39mas\u001b[39;00m \u001b[39msio\u001b[39;00m\n\u001b[0;32m---> 11\u001b[0m \u001b[39mfrom\u001b[39;00m \u001b[39mgoogle\u001b[39;00m\u001b[39m.\u001b[39;00m\u001b[39mcolab\u001b[39;00m \u001b[39mimport\u001b[39;00m drive\n\u001b[1;32m     12\u001b[0m \u001b[39mimport\u001b[39;00m \u001b[39mnumpy\u001b[39;00m \u001b[39mas\u001b[39;00m \u001b[39mnp\u001b[39;00m\n\u001b[1;32m     14\u001b[0m \u001b[39m# Mount Google Drive\u001b[39;00m\n",
            "\u001b[0;31mModuleNotFoundError\u001b[0m: No module named 'google'"
          ]
        }
      ],
      "source": [
        "## Create SVHN database\n",
        "\n",
        "# All the data will be loaded from the provided file in Data/mnist.t\n",
        "import torch \n",
        "import torch.nn as nn\n",
        "import torchvision\n",
        "import torchvision.transforms as tf\n",
        "import matplotlib.pyplot as plt\n",
        "from PIL import Image\n",
        "import scipy.io as sio\n",
        "from google.colab import drive\n",
        "import numpy as np\n",
        "\n",
        "# Mount Google Drive\n",
        "drive.mount('/content/drive')\n",
        "data_path = '/content/drive/My Drive/DeepLearning_2021/P4/Data/'\n",
        "results_path = '/content/drive/My Drive/DeepLearning_2021/P4/Results/'\n",
        "\n",
        "#Making native class loader\n",
        "class SVHN(torch.utils.data.Dataset):\n",
        "    # Initialization method for the dataset\n",
        "    def __init__(self,dataDir = data_path+'/svhn/train_32x32.mat',transform = None):\n",
        "        mat_loaded = sio.loadmat(dataDir)\n",
        "        self.data = mat_loaded['X']\n",
        "        self.labels = mat_loaded['y'].squeeze()\n",
        "        self.labels -= self.labels.min()\n",
        "        self.transform = transform\n",
        "     # What to do to load a single item in the dataset ( read image and label)    \n",
        "    def __getitem__(self, index):\n",
        "        data = self.data[:,:,:,index]\n",
        "        lbl = self.labels[index]\n",
        "        \n",
        "        data = Image.fromarray(data)\n",
        "        # Apply a trasnformaiton to the image if it is indicated in the initalizer\n",
        "        if self.transform is not None : \n",
        "            data = self.transform(data)\n",
        "        \n",
        "        # return the image and the label\n",
        "        return data,lbl\n",
        "    \n",
        "        pass\n",
        "    \n",
        "    # Return the number of images\n",
        "    def __len__(self):\n",
        "        return self.data.shape[3]\n",
        "\n",
        "# Create train data loader\n",
        "tr = tf.Compose([\n",
        "        tf.ToTensor(), \n",
        "        tf.Normalize(mean = [.5], std = [.5])\n",
        "        ])\n",
        "SVHNTrain = SVHN(data_path+'/svhn/train_32x32.mat',tr)\n",
        "train_loader = torch.utils.data.DataLoader(dataset=SVHNTrain,\n",
        "                                               batch_size=256, \n",
        "                                               shuffle=True)"
      ]
    },
    {
      "cell_type": "code",
      "execution_count": null,
      "metadata": {
        "id": "ccmWoqr5u9Xj"
      },
      "outputs": [],
      "source": [
        "# Train function\n",
        "def train(CNN, train_loader, optimizer, num_epochs=5, model_name='model.ckpt', device='cpu'):\n",
        "    CNN.train() # Set the model in train mode\n",
        "    total_step = len(train_loader)\n",
        "    losses_list = []\n",
        "    criterion = nn.CrossEntropyLoss()\n",
        "    # Iterate over epochs\n",
        "    for epoch in range(num_epochs):\n",
        "        # Iterate the dataset\n",
        "        loss_avg = 0\n",
        "        nBatches = 0\n",
        "        for i, (images, labels) in enumerate(train_loader):\n",
        "            # Get batch of samples and labels\n",
        "            images = images.to(device)\n",
        "            labels = labels.type(torch.LongTensor).to(device)\n",
        "\n",
        "            # Forward pass\n",
        "            outputs = CNN(images)\n",
        "            loss = criterion(outputs, labels)\n",
        "            \n",
        "            # Backward and optimize\n",
        "            optimizer.zero_grad()\n",
        "            loss.backward()\n",
        "            optimizer.step()\n",
        "\n",
        "            loss_avg += loss.cpu().item()\n",
        "            nBatches+=1\n",
        "            if (i+1) % 100 == 0:\n",
        "                print ('Epoch [{}/{}], Step [{}/{}], Loss: {:.4f}' \n",
        "                       .format(epoch+1, num_epochs, i+1, total_step, loss_avg / nBatches))\n",
        "        print ('Epoch [{}/{}], Step [{}/{}], Loss: {:.4f}' \n",
        "                       .format(epoch+1, num_epochs, i+1, total_step, loss_avg / nBatches))\n",
        "        losses_list.append(loss_avg / nBatches)\n",
        "        torch.save(CNN.state_dict(), results_path+ '/' + model_name)\n",
        "          \n",
        "    return losses_list \n",
        "\n",
        "# Test funcion\n",
        "def test(CNN, test_loader):\n",
        "  with torch.no_grad():\n",
        "        correct = 0\n",
        "        total = 0\n",
        "        for images, labels in test_loader:\n",
        "            images = images.to(device)\n",
        "            labels = labels.to(device)\n",
        "            # get network predictions\n",
        "            outputs = CNN(images)\n",
        "\n",
        "            # get predicted class\n",
        "            _, predicted = torch.max(outputs.data, 1)\n",
        "\n",
        "            # compare with the ground-truth\n",
        "            total += labels.size(0)\n",
        "            correct += (predicted == labels).sum().item()\n",
        "        # return accuracy\n",
        "        return 100 * correct / total"
      ]
    },
    {
      "cell_type": "code",
      "execution_count": null,
      "metadata": {
        "id": "9vib9IY2vAkP"
      },
      "outputs": [],
      "source": [
        "#Train MyModel\n",
        "my_model = MyModel()\n",
        "\n",
        "#Initialize optimizer \n",
        "learning_rate = .1\n",
        "optimizer = torch.optim.SGD(my_model.parameters(),lr = learning_rate, \n",
        "                            weight_decay=1e-5, momentum=0.9)\n",
        "\n",
        "\n",
        "device = torch.device('cuda:0' if torch.cuda.is_available() else 'cpu')\n",
        "my_model = my_model.to(device)\n",
        "\n",
        "losses_list = train(my_model, train_loader, optimizer, num_epochs=10, model_name='my_net.ckpt', device=device)\n"
      ]
    },
    {
      "attachments": {},
      "cell_type": "markdown",
      "metadata": {
        "id": "s4ilm-FoPmLX"
      },
      "source": [
        "### Test your model\n",
        "As a reference, 93% of accuracy can be easily achieved by using only ~55000 parameters."
      ]
    },
    {
      "cell_type": "code",
      "execution_count": null,
      "metadata": {
        "id": "LHT86IPSzOYi"
      },
      "outputs": [],
      "source": [
        "# Show results for all the trained models\n",
        "SVHNTest = SVHN(data_path+'/svhn/test_32x32.mat',tr)\n",
        "test_loader = torch.utils.data.DataLoader(dataset=SVHNTest,\n",
        "                                               batch_size=256, \n",
        "                                               shuffle=True)\n",
        "\n",
        "#\n",
        "my_net = MyModel()\n",
        "my_net.load_state_dict(torch.load(results_path + 'my_net.ckpt'))\n",
        "my_net.cuda()\n",
        "acc = test(my_net, test_loader)\n",
        "print('Accuracy MyNet: ' + str(acc))"
      ]
    },
    {
      "attachments": {},
      "cell_type": "markdown",
      "metadata": {
        "id": "S7UMjGA9TOUM"
      },
      "source": [
        "# Ex. 3"
      ]
    },
    {
      "cell_type": "code",
      "execution_count": null,
      "metadata": {
        "id": "HXvqONt8TNuc"
      },
      "outputs": [],
      "source": [
        "'''\n",
        "1. Use the implemented architecture in the previous exercice to solve the transfer learning\n",
        "   task provided in the examples.\n",
        "2. Try to fine-tune not only the last layer for the CNN but a larger subset of parameters.\n",
        "2. Report the test accuracy in each case and discuss the results. \n",
        "'''"
      ]
    },
    {
      "attachments": {},
      "cell_type": "markdown",
      "metadata": {
        "id": "o31sdIuJUHex"
      },
      "source": [
        "## Sol. 3"
      ]
    },
    {
      "attachments": {},
      "cell_type": "markdown",
      "metadata": {
        "id": "bSGN1MHVIQBJ"
      },
      "source": [
        "### Initialize DataLoaders for Transfer Learning experiment"
      ]
    },
    {
      "cell_type": "code",
      "execution_count": null,
      "metadata": {
        "id": "lftsNbnEHeoh"
      },
      "outputs": [],
      "source": [
        "# Big dataset with numbers from 1 to 8\n",
        "SVHNTrain_TL = SVHN(data_path+'/svhn_tl/tl_train_32x32.mat',tr)\n",
        "tl_train_loader = torch.utils.data.DataLoader(dataset=SVHNTrain_TL,\n",
        "                                               batch_size=256, \n",
        "                                               shuffle=True)\n",
        "\n",
        "# 200 samples of 0s and 9s\n",
        "SVHNTrain_TL_0_9 = SVHN(data_path+'/svhn_tl/tl_train_9_10_32x32.mat',tr)\n",
        "tl_train_loader_0_9 = torch.utils.data.DataLoader(dataset=SVHNTrain_TL_0_9,\n",
        "                                                  batch_size=64, \n",
        "                                                  shuffle=True)\n",
        "# Test dataset with 0 and 9s\n",
        "SVHNTest_TL_0_9 = SVHN(data_path+'/svhn_tl/tl_test_9_10_32x32.mat',tr)\n",
        "tl_test_loader_0_9 = torch.utils.data.DataLoader(dataset=SVHNTest_TL_0_9,\n",
        "                                                  batch_size=64, \n",
        "                                                  shuffle=True)"
      ]
    },
    {
      "attachments": {},
      "cell_type": "markdown",
      "metadata": {
        "id": "VXbLlY4aC4Ga"
      },
      "source": [
        "### Pre-train your model with the big dataset with numbers from 1 to 8"
      ]
    },
    {
      "cell_type": "code",
      "execution_count": null,
      "metadata": {
        "id": "o2zitIY5tJRg"
      },
      "outputs": [],
      "source": [
        "#Train ResNet\n",
        "resnet_tl = MyModel(num_classes=8)\n",
        "#Initialize optimizer \n",
        "learning_rate = .1\n",
        "optimizer = torch.optim.SGD(resnet_tl.parameters(),lr = learning_rate, weight_decay=1e-5, momentum=0.9)\n",
        "\n",
        "device = torch.device('cuda:0' if torch.cuda.is_available() else 'cpu')\n",
        "resnet_tl = resnet_tl.to(device)\n",
        "\n",
        "losses_it = train(resnet_tl, tl_train_loader, optimizer, num_epochs=10, model_name='tl_mynet_svhn.ckpt', device=device)\n"
      ]
    },
    {
      "attachments": {},
      "cell_type": "markdown",
      "metadata": {
        "id": "X0HrjNVIFNKN"
      },
      "source": [
        "### Fine-tune the pretrained network with the small dataset of 9s and 0s"
      ]
    },
    {
      "cell_type": "code",
      "execution_count": null,
      "metadata": {
        "id": "CDemFpsnsw4J"
      },
      "outputs": [],
      "source": []
    }
  ],
  "metadata": {
    "accelerator": "GPU",
    "colab": {
      "provenance": []
    },
    "gpuClass": "standard",
    "kernelspec": {
      "display_name": "Python 3",
      "name": "python3"
    },
    "language_info": {
      "codemirror_mode": {
        "name": "ipython",
        "version": 3
      },
      "file_extension": ".py",
      "mimetype": "text/x-python",
      "name": "python",
      "nbconvert_exporter": "python",
      "pygments_lexer": "ipython3",
      "version": "3.9.16"
    }
  },
  "nbformat": 4,
  "nbformat_minor": 0
}
